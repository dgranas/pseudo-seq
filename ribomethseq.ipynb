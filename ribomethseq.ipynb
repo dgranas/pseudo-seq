{
 "cells": [
  {
   "cell_type": "raw",
   "metadata": {},
   "source": [
    "10/6/19\n",
    "Dave Granas\n",
    "Ribomethseq end-counts "
   ]
  },
  {
   "cell_type": "markdown",
   "metadata": {},
   "source": [
    "**User edit the following cell:**"
   ]
  },
  {
   "cell_type": "code",
   "execution_count": 2,
   "metadata": {},
   "outputs": [],
   "source": [
    "# enter the bamfile (with path)\n",
    "bamfile = '/Users/david/Desktop/9-16-19_bam/ATCACG_filtered.bam'"
   ]
  },
  {
   "cell_type": "code",
   "execution_count": null,
   "metadata": {},
   "outputs": [],
   "source": [
    "def get_end_count(bamfile, ref_name_to_abbrev, ref_df, sample, sample_overlap):\n",
    "    '''\n",
    "    Given: bamfile for a particular sample\n",
    "    Gets 5' end of R1 (upstream) reads and 3' of R2 (downstream) reads \n",
    "    To do:\n",
    "    Make sure using right reads\n",
    "    Do end counting\n",
    "    Return in some sort of data structure\n",
    "    '''\n",
    "    pass\n",
    "    # to do"
   ]
  }
 ],
 "metadata": {
  "kernelspec": {
   "display_name": "Python 3",
   "language": "python",
   "name": "python3"
  },
  "language_info": {
   "codemirror_mode": {
    "name": "ipython",
    "version": 3
   },
   "file_extension": ".py",
   "mimetype": "text/x-python",
   "name": "python",
   "nbconvert_exporter": "python",
   "pygments_lexer": "ipython3",
   "version": "3.6.7"
  }
 },
 "nbformat": 4,
 "nbformat_minor": 2
}
